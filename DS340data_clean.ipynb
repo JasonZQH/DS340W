{
  "nbformat": 4,
  "nbformat_minor": 0,
  "metadata": {
    "colab": {
      "provenance": [],
      "collapsed_sections": []
    },
    "kernelspec": {
      "name": "python3",
      "display_name": "Python 3"
    },
    "language_info": {
      "name": "python"
    }
  },
  "cells": [
    {
      "cell_type": "markdown",
      "source": [
        "#Data Preprocessing"
      ],
      "metadata": {
        "id": "goCDJEGi0hbp"
      }
    },
    {
      "cell_type": "markdown",
      "source": [
        "### Remove empty rows"
      ],
      "metadata": {
        "id": "tNDX_E710u5D"
      }
    },
    {
      "cell_type": "code",
      "execution_count": 22,
      "metadata": {
        "colab": {
          "base_uri": "https://localhost:8080/",
          "height": 206
        },
        "id": "aKlcRfnbyg5C",
        "outputId": "de051d9b-a58f-42a2-a625-a7244904efa5"
      },
      "outputs": [
        {
          "output_type": "execute_result",
          "data": {
            "text/plain": [
              "   Unnamed: 0       Time                            data  label\n",
              "0           0  [00:12.55  Another day wasted out of time  Angry\n",
              "1           1  [00:14.69         I can't get out of this  Angry\n",
              "2           2  [00:16.03           Altered state of mind  Angry\n",
              "3           3  [00:17.41             I'm going overboard  Angry\n",
              "4           4  [00:18.75     My conscience meets decline  Angry"
            ],
            "text/html": [
              "\n",
              "  <div id=\"df-eb672523-5c65-4646-af6c-5bee59074b00\">\n",
              "    <div class=\"colab-df-container\">\n",
              "      <div>\n",
              "<style scoped>\n",
              "    .dataframe tbody tr th:only-of-type {\n",
              "        vertical-align: middle;\n",
              "    }\n",
              "\n",
              "    .dataframe tbody tr th {\n",
              "        vertical-align: top;\n",
              "    }\n",
              "\n",
              "    .dataframe thead th {\n",
              "        text-align: right;\n",
              "    }\n",
              "</style>\n",
              "<table border=\"1\" class=\"dataframe\">\n",
              "  <thead>\n",
              "    <tr style=\"text-align: right;\">\n",
              "      <th></th>\n",
              "      <th>Unnamed: 0</th>\n",
              "      <th>Time</th>\n",
              "      <th>data</th>\n",
              "      <th>label</th>\n",
              "    </tr>\n",
              "  </thead>\n",
              "  <tbody>\n",
              "    <tr>\n",
              "      <th>0</th>\n",
              "      <td>0</td>\n",
              "      <td>[00:12.55</td>\n",
              "      <td>Another day wasted out of time</td>\n",
              "      <td>Angry</td>\n",
              "    </tr>\n",
              "    <tr>\n",
              "      <th>1</th>\n",
              "      <td>1</td>\n",
              "      <td>[00:14.69</td>\n",
              "      <td>I can't get out of this</td>\n",
              "      <td>Angry</td>\n",
              "    </tr>\n",
              "    <tr>\n",
              "      <th>2</th>\n",
              "      <td>2</td>\n",
              "      <td>[00:16.03</td>\n",
              "      <td>Altered state of mind</td>\n",
              "      <td>Angry</td>\n",
              "    </tr>\n",
              "    <tr>\n",
              "      <th>3</th>\n",
              "      <td>3</td>\n",
              "      <td>[00:17.41</td>\n",
              "      <td>I'm going overboard</td>\n",
              "      <td>Angry</td>\n",
              "    </tr>\n",
              "    <tr>\n",
              "      <th>4</th>\n",
              "      <td>4</td>\n",
              "      <td>[00:18.75</td>\n",
              "      <td>My conscience meets decline</td>\n",
              "      <td>Angry</td>\n",
              "    </tr>\n",
              "  </tbody>\n",
              "</table>\n",
              "</div>\n",
              "      <button class=\"colab-df-convert\" onclick=\"convertToInteractive('df-eb672523-5c65-4646-af6c-5bee59074b00')\"\n",
              "              title=\"Convert this dataframe to an interactive table.\"\n",
              "              style=\"display:none;\">\n",
              "        \n",
              "  <svg xmlns=\"http://www.w3.org/2000/svg\" height=\"24px\"viewBox=\"0 0 24 24\"\n",
              "       width=\"24px\">\n",
              "    <path d=\"M0 0h24v24H0V0z\" fill=\"none\"/>\n",
              "    <path d=\"M18.56 5.44l.94 2.06.94-2.06 2.06-.94-2.06-.94-.94-2.06-.94 2.06-2.06.94zm-11 1L8.5 8.5l.94-2.06 2.06-.94-2.06-.94L8.5 2.5l-.94 2.06-2.06.94zm10 10l.94 2.06.94-2.06 2.06-.94-2.06-.94-.94-2.06-.94 2.06-2.06.94z\"/><path d=\"M17.41 7.96l-1.37-1.37c-.4-.4-.92-.59-1.43-.59-.52 0-1.04.2-1.43.59L10.3 9.45l-7.72 7.72c-.78.78-.78 2.05 0 2.83L4 21.41c.39.39.9.59 1.41.59.51 0 1.02-.2 1.41-.59l7.78-7.78 2.81-2.81c.8-.78.8-2.07 0-2.86zM5.41 20L4 18.59l7.72-7.72 1.47 1.35L5.41 20z\"/>\n",
              "  </svg>\n",
              "      </button>\n",
              "      \n",
              "  <style>\n",
              "    .colab-df-container {\n",
              "      display:flex;\n",
              "      flex-wrap:wrap;\n",
              "      gap: 12px;\n",
              "    }\n",
              "\n",
              "    .colab-df-convert {\n",
              "      background-color: #E8F0FE;\n",
              "      border: none;\n",
              "      border-radius: 50%;\n",
              "      cursor: pointer;\n",
              "      display: none;\n",
              "      fill: #1967D2;\n",
              "      height: 32px;\n",
              "      padding: 0 0 0 0;\n",
              "      width: 32px;\n",
              "    }\n",
              "\n",
              "    .colab-df-convert:hover {\n",
              "      background-color: #E2EBFA;\n",
              "      box-shadow: 0px 1px 2px rgba(60, 64, 67, 0.3), 0px 1px 3px 1px rgba(60, 64, 67, 0.15);\n",
              "      fill: #174EA6;\n",
              "    }\n",
              "\n",
              "    [theme=dark] .colab-df-convert {\n",
              "      background-color: #3B4455;\n",
              "      fill: #D2E3FC;\n",
              "    }\n",
              "\n",
              "    [theme=dark] .colab-df-convert:hover {\n",
              "      background-color: #434B5C;\n",
              "      box-shadow: 0px 1px 3px 1px rgba(0, 0, 0, 0.15);\n",
              "      filter: drop-shadow(0px 1px 2px rgba(0, 0, 0, 0.3));\n",
              "      fill: #FFFFFF;\n",
              "    }\n",
              "  </style>\n",
              "\n",
              "      <script>\n",
              "        const buttonEl =\n",
              "          document.querySelector('#df-eb672523-5c65-4646-af6c-5bee59074b00 button.colab-df-convert');\n",
              "        buttonEl.style.display =\n",
              "          google.colab.kernel.accessAllowed ? 'block' : 'none';\n",
              "\n",
              "        async function convertToInteractive(key) {\n",
              "          const element = document.querySelector('#df-eb672523-5c65-4646-af6c-5bee59074b00');\n",
              "          const dataTable =\n",
              "            await google.colab.kernel.invokeFunction('convertToInteractive',\n",
              "                                                     [key], {});\n",
              "          if (!dataTable) return;\n",
              "\n",
              "          const docLinkHtml = 'Like what you see? Visit the ' +\n",
              "            '<a target=\"_blank\" href=https://colab.research.google.com/notebooks/data_table.ipynb>data table notebook</a>'\n",
              "            + ' to learn more about interactive tables.';\n",
              "          element.innerHTML = '';\n",
              "          dataTable['output_type'] = 'display_data';\n",
              "          await google.colab.output.renderOutput(dataTable, element);\n",
              "          const docLink = document.createElement('div');\n",
              "          docLink.innerHTML = docLinkHtml;\n",
              "          element.appendChild(docLink);\n",
              "        }\n",
              "      </script>\n",
              "    </div>\n",
              "  </div>\n",
              "  "
            ]
          },
          "metadata": {},
          "execution_count": 22
        }
      ],
      "source": [
        "import pandas as pd\n",
        "df = pd.read_csv('train.csv')\n",
        "\n",
        "df.head()"
      ]
    },
    {
      "cell_type": "code",
      "source": [
        "len(df)"
      ],
      "metadata": {
        "colab": {
          "base_uri": "https://localhost:8080/"
        },
        "id": "-h16WDBZI-Zm",
        "outputId": "de8c3f32-4984-4118-d2ed-99a7683d4b7e"
      },
      "execution_count": 23,
      "outputs": [
        {
          "output_type": "execute_result",
          "data": {
            "text/plain": [
              "20115"
            ]
          },
          "metadata": {},
          "execution_count": 23
        }
      ]
    },
    {
      "cell_type": "code",
      "source": [
        "df.dropna(\n",
        "    axis=0,\n",
        "    how='any',\n",
        "    thresh=None,\n",
        "    subset=None,\n",
        "    inplace=True\n",
        ")"
      ],
      "metadata": {
        "id": "UxFem7pcKIZb"
      },
      "execution_count": null,
      "outputs": []
    },
    {
      "cell_type": "code",
      "source": [
        "len(df)"
      ],
      "metadata": {
        "colab": {
          "base_uri": "https://localhost:8080/"
        },
        "id": "CZW9epV8KMyQ",
        "outputId": "455a348a-0782-4211-eb0c-4646cf3ba175"
      },
      "execution_count": null,
      "outputs": [
        {
          "output_type": "execute_result",
          "data": {
            "text/plain": [
              "17674"
            ]
          },
          "metadata": {},
          "execution_count": 11
        }
      ]
    },
    {
      "cell_type": "markdown",
      "source": [
        "### Label Encoder"
      ],
      "metadata": {
        "id": "Ik3GmPtUN8bV"
      }
    },
    {
      "cell_type": "code",
      "source": [
        "from sklearn.preprocessing import LabelEncoder\n",
        "import random\n",
        "import pickle\n",
        "import numpy as np\n",
        "\n",
        "X_train = df['data'].values \n",
        "\n",
        "y_train = df['label'].values\n",
        "\n",
        "print('before: %s ...' %y_train[:5])\n",
        "\n",
        "le = LabelEncoder()\n",
        "le.fit(y_train)\n",
        "y_train = le.transform(y_train)\n",
        "\n",
        "print('after: %s ...' %y_train[:5])"
      ],
      "metadata": {
        "colab": {
          "base_uri": "https://localhost:8080/"
        },
        "id": "k4YgBqqnOADp",
        "outputId": "94c00d8e-a06e-4b51-f6ce-5a66b34b5a89"
      },
      "execution_count": null,
      "outputs": [
        {
          "output_type": "stream",
          "name": "stdout",
          "text": [
            "before: ['Angry' 'Angry' 'Angry' 'Angry' 'Angry'] ...\n",
            "after: [0 0 0 0 0] ...\n"
          ]
        }
      ]
    },
    {
      "cell_type": "markdown",
      "source": [
        "### Porter Stemmer"
      ],
      "metadata": {
        "id": "0LBAbGqCKUZ6"
      }
    },
    {
      "cell_type": "code",
      "source": [
        "import nltk\n",
        "import string\n",
        "import re\n",
        "\n",
        "porter_stemmer = nltk.stem.porter.PorterStemmer()\n",
        "\n",
        "def porter_tokenizer(text, stemmer=porter_stemmer):\n",
        "    \"\"\"\n",
        "    A Porter-Stemmer-Tokenizer hybrid to splits sentences into words (tokens) \n",
        "    and applies the porter stemming algorithm to each of the obtained token. \n",
        "    Tokens that are only consisting of punctuation characters are removed as well.\n",
        "    Only tokens that consist of more than one letter are being kept.\n",
        "    \n",
        "    Parameters\n",
        "    ----------\n",
        "        \n",
        "    text : `str`. \n",
        "      A sentence that is to split into words.\n",
        "        \n",
        "    Returns\n",
        "    ----------\n",
        "    \n",
        "    no_punct : `str`. \n",
        "      A list of tokens after stemming and removing Sentence punctuation patterns.\n",
        "    \n",
        "    \"\"\"\n",
        "    lower_txt = text.lower()\n",
        "    tokens = nltk.wordpunct_tokenize(lower_txt)\n",
        "    stems = [porter_stemmer.stem(t) for t in tokens]\n",
        "    no_punct = [s for s in stems if re.match('^[a-zA-Z]+$', s) is not None]\n",
        "    return no_punct"
      ],
      "metadata": {
        "id": "h4AHJs1YGy1R"
      },
      "execution_count": null,
      "outputs": []
    },
    {
      "cell_type": "code",
      "source": [
        "porter_tokenizer(\"Don't !!! --- want swimming. \")"
      ],
      "metadata": {
        "colab": {
          "base_uri": "https://localhost:8080/"
        },
        "id": "E5Ho-_irHAm5",
        "outputId": "fa942dc0-52b1-4f6b-d5d7-4b27db6b4665"
      },
      "execution_count": null,
      "outputs": [
        {
          "output_type": "execute_result",
          "data": {
            "text/plain": [
              "['don', 't', 'want', 'swim']"
            ]
          },
          "metadata": {},
          "execution_count": 14
        }
      ]
    },
    {
      "cell_type": "markdown",
      "source": [
        "### Stop words"
      ],
      "metadata": {
        "id": "6r1TfGWtKbRI"
      }
    },
    {
      "cell_type": "code",
      "source": [
        "with open('stopwords.txt', 'r') as infile:\n",
        "    stop_words = infile.read().splitlines()\n",
        "print('stop words %s ...' %stop_words[:5])"
      ],
      "metadata": {
        "colab": {
          "base_uri": "https://localhost:8080/"
        },
        "id": "XmbKHb96HJeN",
        "outputId": "207e7192-d6f7-497a-c28a-5c5424a38279"
      },
      "execution_count": null,
      "outputs": [
        {
          "output_type": "stream",
          "name": "stdout",
          "text": [
            "stop words [\"a's\", 'able', 'about', 'above', 'according'] ...\n"
          ]
        }
      ]
    },
    {
      "cell_type": "markdown",
      "source": [
        "###Count Vectorizer"
      ],
      "metadata": {
        "id": "MelwczKbKg-W"
      }
    },
    {
      "cell_type": "code",
      "source": [
        "from sklearn.feature_extraction.text import CountVectorizer\n",
        "\n",
        "vec = CountVectorizer(\n",
        "            encoding='utf-8',\n",
        "            decode_error='replace',\n",
        "            strip_accents='unicode',\n",
        "            analyzer='word',\n",
        "            binary=False,\n",
        "            stop_words=stop_words,\n",
        "            tokenizer=porter_tokenizer,\n",
        "            ngram_range=(1,1)\n",
        "    )"
      ],
      "metadata": {
        "id": "HLz51dYpIscX"
      },
      "execution_count": null,
      "outputs": []
    },
    {
      "cell_type": "code",
      "source": [
        "vocab = [\"123 1 The\\n swimmer likes swimming so he swims. Don't didn`t\"]\n",
        "\n",
        "vec = vec.fit(vocab)\n",
        "\n",
        "sentence1 = vec.transform([u'The swimmer likes swimming.'])\n",
        "sentence2 = vec.transform(['The\\nswimmer \\nswims.'])\n",
        "\n",
        "\n",
        "print('TEST:')\n",
        "print('Vocabulary: %s' %vec.get_feature_names())\n",
        "print('Sentence 1: %s' %sentence1.toarray())\n",
        "print('Sentence 2: %s' %sentence2.toarray())"
      ],
      "metadata": {
        "id": "UIK_1rXIIwZO",
        "colab": {
          "base_uri": "https://localhost:8080/"
        },
        "outputId": "40c0fa08-e1e4-4d22-d2ea-96735e3b6bf7"
      },
      "execution_count": null,
      "outputs": [
        {
          "output_type": "stream",
          "name": "stdout",
          "text": [
            "TEST:\n",
            "Vocabulary: ['didn', 'don', 'swim', 'swimmer', 't']\n",
            "Sentence 1: [[0 0 1 1 0]]\n",
            "Sentence 2: [[0 0 1 1 0]]\n"
          ]
        },
        {
          "output_type": "stream",
          "name": "stderr",
          "text": [
            "/usr/local/lib/python3.7/dist-packages/sklearn/feature_extraction/text.py:517: UserWarning: The parameter 'token_pattern' will not be used since 'tokenizer' is not None'\n",
            "  \"The parameter 'token_pattern' will not be used\"\n",
            "/usr/local/lib/python3.7/dist-packages/sklearn/feature_extraction/text.py:401: UserWarning: Your stop_words may be inconsistent with your preprocessing. Tokenizing the stop words generated tokens ['a', 'abl', 'abov', 'accord', 'accordingli', 'actual', 'afterward', 'ain', 'alon', 'alreadi', 'alway', 'ani', 'anoth', 'anybodi', 'anyon', 'anyth', 'anywher', 'appreci', 'appropri', 'aren', 'asid', 'associ', 'avail', 'aw', 'becam', 'becaus', 'becom', 'befor', 'believ', 'besid', 'c', 'caus', 'certainli', 'chang', 'clearli', 'concern', 'consequ', 'consid', 'correspond', 'couldn', 'cours', 'current', 'd', 'definit', 'describ', 'despit', 'didn', 'differ', 'doe', 'doesn', 'don', 'downward', 'dure', 'els', 'elsewher', 'entir', 'especi', 'everi', 'everybodi', 'everyon', 'everyth', 'everywher', 'exactli', 'exampl', 'follow', 'formerli', 'furthermor', 'give', 'goe', 'greet', 'ha', 'hadn', 'happen', 'hardli', 'hasn', 'haven', 'henc', 'hereaft', 'herebi', 'hope', 'howev', 'i', 'ignor', 'immedi', 'inde', 'indic', 'isn', 'late', 'latterli', 'littl', 'll', 'm', 'mainli', 'mani', 'mayb', 'meanwhil', 'mere', 'mon', 'moreov', 'mostli', 'nearli', 'necessari', 'nobodi', 'noon', 'normal', 'noth', 'nowher', 'obvious', 'onc', 'onli', 'otherwis', 'ourselv', 'outsid', 'overal', 'particularli', 'perhap', 'place', 'pleas', 'plu', 'possibl', 'presum', 'probabl', 'provid', 'quit', 'realli', 'reason', 'regard', 'rel', 'respect', 's', 'secondli', 'selv', 'sensibl', 'seriou', 'sever', 'shouldn', 'sinc', 'somebodi', 'someon', 'someth', 'sometim', 'somewher', 'sorri', 'specifi', 't', 'tend', 'themselv', 'thenc', 'thereaft', 'therebi', 'therefor', 'thi', 'thoroughli', 'thu', 'togeth', 'tri', 'truli', 'unfortun', 'unlik', 'usual', 'valu', 'variou', 've', 'veri', 'wa', 'wasn', 'welcom', 'weren', 'whatev', 'whenc', 'whenev', 'wherea', 'whereaft', 'wherebi', 'wherev', 'whi', 'won', 'wouldn', 'ye', 'yourselv'] not in stop_words.\n",
            "  % sorted(inconsistent)\n",
            "/usr/local/lib/python3.7/dist-packages/sklearn/utils/deprecation.py:87: FutureWarning: Function get_feature_names is deprecated; get_feature_names is deprecated in 1.0 and will be removed in 1.2. Please use get_feature_names_out instead.\n",
            "  warnings.warn(msg, category=FutureWarning)\n"
          ]
        }
      ]
    },
    {
      "cell_type": "code",
      "source": [
        "X_train = df['data'].values \n",
        "vec = vec.fit(X_train.ravel())\n",
        "print('Vocabulary size: %s' %len(vec.get_feature_names()))"
      ],
      "metadata": {
        "colab": {
          "base_uri": "https://localhost:8080/"
        },
        "id": "K5rq-Qz9LFIP",
        "outputId": "d6d05aac-2569-4aaa-8d1f-4ff425088a44"
      },
      "execution_count": null,
      "outputs": [
        {
          "output_type": "stream",
          "name": "stdout",
          "text": [
            "Vocabulary size: 4333\n"
          ]
        }
      ]
    },
    {
      "cell_type": "code",
      "source": [
        "vec = CountVectorizer(\n",
        "            encoding='utf-8',\n",
        "            decode_error='replace',\n",
        "            strip_accents='unicode',\n",
        "            analyzer='word',\n",
        "            binary=False,\n",
        "            stop_words=stop_words,\n",
        "            tokenizer=porter_tokenizer,\n",
        "            ngram_range=(2,2)\n",
        "    )\n",
        "# N-grams = 2\n",
        "vocab = [\"123 1 The\\n swimmer likes swimming so he swims. Don't didn`t\"]\n",
        "\n",
        "vec = vec.fit(vocab)\n",
        "\n",
        "sentence1 = vec.transform([u'The swimmer likes swimming.'])\n",
        "sentence2 = vec.transform(['The\\nswimmer \\nswims.'])\n",
        "\n",
        "\n",
        "print('TEST:')\n",
        "print('Vocabulary: %s' %vec.get_feature_names())\n",
        "print('Sentence 1: %s' %sentence1.toarray())\n",
        "print('Sentence 2: %s' %sentence2.toarray())"
      ],
      "metadata": {
        "colab": {
          "base_uri": "https://localhost:8080/"
        },
        "id": "WsdZVPEvLkNq",
        "outputId": "fe1f5cfb-70d6-4928-de32-1567d3b72ead"
      },
      "execution_count": null,
      "outputs": [
        {
          "output_type": "stream",
          "name": "stdout",
          "text": [
            "TEST:\n",
            "Vocabulary: ['didn t', 'don t', 'swim don', 'swim swim', 'swimmer swim', 't didn']\n",
            "Sentence 1: [[0 0 0 0 1 0]]\n",
            "Sentence 2: [[0 0 0 0 1 0]]\n"
          ]
        }
      ]
    },
    {
      "cell_type": "markdown",
      "source": [
        "### Tfidf Vectorizer"
      ],
      "metadata": {
        "id": "tYjAMI76MDFF"
      }
    },
    {
      "cell_type": "code",
      "source": [
        "from sklearn.feature_extraction.text import TfidfVectorizer\n",
        "\n",
        "tfidf = TfidfVectorizer(\n",
        "            encoding='utf-8',\n",
        "            decode_error='replace',\n",
        "            strip_accents='unicode',\n",
        "            analyzer='word',\n",
        "            binary=False,\n",
        "            stop_words=stop_words,\n",
        "            tokenizer=porter_tokenizer\n",
        "    )"
      ],
      "metadata": {
        "id": "k-PHQAdMMErS"
      },
      "execution_count": null,
      "outputs": []
    },
    {
      "cell_type": "code",
      "source": [
        "vocab = [\"123 1 The\\n swimmer likes swimming so he swims. Don't didn`t\"]\n",
        "\n",
        "tfidf = tfidf.fit(vocab)\n",
        "\n",
        "sentence1 = tfidf.transform([u'The swimmer likes swimming.'])\n",
        "sentence2 = tfidf.transform(['The\\nswimmer \\nswims.'])\n",
        "\n",
        "\n",
        "print('TEST:')\n",
        "print('Vocabulary: %s' %tfidf.get_feature_names())\n",
        "print('Sentence 1: %s' %sentence1.toarray())\n",
        "print('Sentence 2: %s' %sentence2.toarray())"
      ],
      "metadata": {
        "colab": {
          "base_uri": "https://localhost:8080/"
        },
        "id": "SUP6noepMIxz",
        "outputId": "d8e45bbe-934c-4662-d91e-a7dd7cd8e907"
      },
      "execution_count": null,
      "outputs": [
        {
          "output_type": "stream",
          "name": "stdout",
          "text": [
            "TEST:\n",
            "Vocabulary: ['didn', 'don', 'swim', 'swimmer', 't']\n",
            "Sentence 1: [[0.         0.         0.70710678 0.70710678 0.        ]]\n",
            "Sentence 2: [[0.         0.         0.70710678 0.70710678 0.        ]]\n"
          ]
        }
      ]
    },
    {
      "cell_type": "code",
      "source": [
        "tfidf = tfidf.fit(X_train.ravel())\n",
        "\n",
        "print('Vocabulary size: %s' %len(tfidf.get_feature_names()))"
      ],
      "metadata": {
        "colab": {
          "base_uri": "https://localhost:8080/"
        },
        "id": "e3FLosY1MNxR",
        "outputId": "00d97a28-3786-47b2-d89c-f43a6d9093e4"
      },
      "execution_count": null,
      "outputs": [
        {
          "output_type": "stream",
          "name": "stdout",
          "text": [
            "Vocabulary size: 4333\n"
          ]
        }
      ]
    }
  ]
}